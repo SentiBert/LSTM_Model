{
  "nbformat": 4,
  "nbformat_minor": 0,
  "metadata": {
    "colab": {
      "name": "LSTM_Model_Senti",
      "provenance": []
    },
    "kernelspec": {
      "name": "python3",
      "display_name": "Python 3"
    },
    "accelerator": "GPU"
  },
  "cells": [
    {
      "cell_type": "code",
      "metadata": {
        "id": "DlXFEJm1BY5F",
        "colab_type": "code",
        "colab": {}
      },
      "source": [
        "import numpy as np # linear algebra\n",
        "import pandas as pd # data processing, CSV file I/O (e.g. pd.read_csv)\n",
        "import os"
      ],
      "execution_count": null,
      "outputs": []
    },
    {
      "cell_type": "code",
      "metadata": {
        "id": "AhrZEftqB8MV",
        "colab_type": "code",
        "colab": {}
      },
      "source": [
        "raw = pd.read_csv(\"/content/TAReviewsWithoutNull.csv\")"
      ],
      "execution_count": null,
      "outputs": []
    },
    {
      "cell_type": "code",
      "metadata": {
        "id": "qLcyWU5lChv3",
        "colab_type": "code",
        "colab": {
          "base_uri": "https://localhost:8080/",
          "height": 280
        },
        "outputId": "37b07e79-993e-4823-c2cf-1fe730ec9a45"
      },
      "source": [
        "raw.head()"
      ],
      "execution_count": null,
      "outputs": [
        {
          "output_type": "execute_result",
          "data": {
            "text/html": [
              "<div>\n",
              "<style scoped>\n",
              "    .dataframe tbody tr th:only-of-type {\n",
              "        vertical-align: middle;\n",
              "    }\n",
              "\n",
              "    .dataframe tbody tr th {\n",
              "        vertical-align: top;\n",
              "    }\n",
              "\n",
              "    .dataframe thead th {\n",
              "        text-align: right;\n",
              "    }\n",
              "</style>\n",
              "<table border=\"1\" class=\"dataframe\">\n",
              "  <thead>\n",
              "    <tr style=\"text-align: right;\">\n",
              "      <th></th>\n",
              "      <th>Number</th>\n",
              "      <th>Name</th>\n",
              "      <th>City</th>\n",
              "      <th>Rating</th>\n",
              "      <th>Reviews</th>\n",
              "      <th>URL_TA</th>\n",
              "      <th>ID_TA</th>\n",
              "    </tr>\n",
              "  </thead>\n",
              "  <tbody>\n",
              "    <tr>\n",
              "      <th>0</th>\n",
              "      <td>0</td>\n",
              "      <td>Martine of Martine's Table</td>\n",
              "      <td>Amsterdam</td>\n",
              "      <td>5.0</td>\n",
              "      <td>Just like home</td>\n",
              "      <td>/Restaurant_Review-g188590-d11752080-Reviews-M...</td>\n",
              "      <td>d11752080</td>\n",
              "    </tr>\n",
              "    <tr>\n",
              "      <th>1</th>\n",
              "      <td>1</td>\n",
              "      <td>De Silveren Spiegel</td>\n",
              "      <td>Amsterdam</td>\n",
              "      <td>4.5</td>\n",
              "      <td>Great food and staff</td>\n",
              "      <td>/Restaurant_Review-g188590-d693419-Reviews-De_...</td>\n",
              "      <td>d693419</td>\n",
              "    </tr>\n",
              "    <tr>\n",
              "      <th>2</th>\n",
              "      <td>2</td>\n",
              "      <td>La Rive</td>\n",
              "      <td>Amsterdam</td>\n",
              "      <td>4.5</td>\n",
              "      <td>Satisfaction</td>\n",
              "      <td>/Restaurant_Review-g188590-d696959-Reviews-La_...</td>\n",
              "      <td>d696959</td>\n",
              "    </tr>\n",
              "    <tr>\n",
              "      <th>3</th>\n",
              "      <td>3</td>\n",
              "      <td>Vinkeles</td>\n",
              "      <td>Amsterdam</td>\n",
              "      <td>5.0</td>\n",
              "      <td>True five star dinner</td>\n",
              "      <td>/Restaurant_Review-g188590-d1239229-Reviews-Vi...</td>\n",
              "      <td>d1239229</td>\n",
              "    </tr>\n",
              "    <tr>\n",
              "      <th>4</th>\n",
              "      <td>4</td>\n",
              "      <td>Librije's Zusje Amsterdam</td>\n",
              "      <td>Amsterdam</td>\n",
              "      <td>4.5</td>\n",
              "      <td>Best meal.... EVER</td>\n",
              "      <td>/Restaurant_Review-g188590-d6864170-Reviews-Li...</td>\n",
              "      <td>d6864170</td>\n",
              "    </tr>\n",
              "  </tbody>\n",
              "</table>\n",
              "</div>"
            ],
            "text/plain": [
              "   Number  ...      ID_TA\n",
              "0       0  ...  d11752080\n",
              "1       1  ...    d693419\n",
              "2       2  ...    d696959\n",
              "3       3  ...   d1239229\n",
              "4       4  ...   d6864170\n",
              "\n",
              "[5 rows x 7 columns]"
            ]
          },
          "metadata": {
            "tags": []
          },
          "execution_count": 3
        }
      ]
    },
    {
      "cell_type": "code",
      "metadata": {
        "id": "AFu9Gs_sCkJ7",
        "colab_type": "code",
        "colab": {
          "base_uri": "https://localhost:8080/",
          "height": 33
        },
        "outputId": "6061a850-5f7f-442f-d9b7-e4d9ffef24f6"
      },
      "source": [
        "len(raw)"
      ],
      "execution_count": null,
      "outputs": [
        {
          "output_type": "execute_result",
          "data": {
            "text/plain": [
              "96817"
            ]
          },
          "metadata": {
            "tags": []
          },
          "execution_count": 4
        }
      ]
    },
    {
      "cell_type": "code",
      "metadata": {
        "id": "mL58zlhgCmsR",
        "colab_type": "code",
        "colab": {}
      },
      "source": [
        "raw['Rating'] = raw['Rating'].round().astype(int)"
      ],
      "execution_count": null,
      "outputs": []
    },
    {
      "cell_type": "code",
      "metadata": {
        "id": "cI5IhozKEKhZ",
        "colab_type": "code",
        "colab": {
          "base_uri": "https://localhost:8080/",
          "height": 100
        },
        "outputId": "3b5bc75c-4914-4607-aa99-ecb5962a7b7f"
      },
      "source": [
        "print(raw['Reviews'][0], \"\\n\")\n",
        "print(raw[\"Reviews\"][1], \"\\n\")\n",
        "print(raw[\"Reviews\"][2])"
      ],
      "execution_count": null,
      "outputs": [
        {
          "output_type": "stream",
          "text": [
            "Just like home \n",
            "\n",
            "Great food and staff \n",
            "\n",
            "Satisfaction\n"
          ],
          "name": "stdout"
        }
      ]
    },
    {
      "cell_type": "code",
      "metadata": {
        "id": "e64N9CITEWMC",
        "colab_type": "code",
        "colab": {}
      },
      "source": [
        "import re\n",
        "def clean_text(df):\n",
        "    text = str(df[\"Reviews\"])\n",
        "    text = text.lower()\n",
        "    text = re.sub(\"[^a-z\\s]\", \"\", text)\n",
        "    return text\n",
        "\n",
        "raw[\"Reviews\"] = raw.apply(clean_text, axis=1)"
      ],
      "execution_count": null,
      "outputs": []
    },
    {
      "cell_type": "code",
      "metadata": {
        "id": "UbEwytUBEl_A",
        "colab_type": "code",
        "colab": {
          "base_uri": "https://localhost:8080/",
          "height": 117
        },
        "outputId": "69e413ac-9651-41e8-f525-12e91c00035e"
      },
      "source": [
        "print(raw['Reviews'][0], \"\\n\")\n",
        "print(raw[\"Reviews\"][1], \"\\n\")\n",
        "print(raw[\"Reviews\"][2], \"\\n\")"
      ],
      "execution_count": null,
      "outputs": [
        {
          "output_type": "stream",
          "text": [
            "just like home \n",
            "\n",
            "great food and staff \n",
            "\n",
            "satisfaction \n",
            "\n"
          ],
          "name": "stdout"
        }
      ]
    },
    {
      "cell_type": "code",
      "metadata": {
        "id": "QMqikwsCEtQt",
        "colab_type": "code",
        "colab": {}
      },
      "source": [
        "cleaned = raw[[\"Reviews\", \"Rating\"]]"
      ],
      "execution_count": null,
      "outputs": []
    },
    {
      "cell_type": "code",
      "metadata": {
        "id": "w-dv1nZtFERn",
        "colab_type": "code",
        "colab": {
          "base_uri": "https://localhost:8080/",
          "height": 196
        },
        "outputId": "b3573d15-d18a-48bd-a6c9-e0738ea400a7"
      },
      "source": [
        "cleaned.head()"
      ],
      "execution_count": null,
      "outputs": [
        {
          "output_type": "execute_result",
          "data": {
            "text/html": [
              "<div>\n",
              "<style scoped>\n",
              "    .dataframe tbody tr th:only-of-type {\n",
              "        vertical-align: middle;\n",
              "    }\n",
              "\n",
              "    .dataframe tbody tr th {\n",
              "        vertical-align: top;\n",
              "    }\n",
              "\n",
              "    .dataframe thead th {\n",
              "        text-align: right;\n",
              "    }\n",
              "</style>\n",
              "<table border=\"1\" class=\"dataframe\">\n",
              "  <thead>\n",
              "    <tr style=\"text-align: right;\">\n",
              "      <th></th>\n",
              "      <th>Reviews</th>\n",
              "      <th>Rating</th>\n",
              "    </tr>\n",
              "  </thead>\n",
              "  <tbody>\n",
              "    <tr>\n",
              "      <th>0</th>\n",
              "      <td>just like home</td>\n",
              "      <td>5</td>\n",
              "    </tr>\n",
              "    <tr>\n",
              "      <th>1</th>\n",
              "      <td>great food and staff</td>\n",
              "      <td>4</td>\n",
              "    </tr>\n",
              "    <tr>\n",
              "      <th>2</th>\n",
              "      <td>satisfaction</td>\n",
              "      <td>4</td>\n",
              "    </tr>\n",
              "    <tr>\n",
              "      <th>3</th>\n",
              "      <td>true five star dinner</td>\n",
              "      <td>5</td>\n",
              "    </tr>\n",
              "    <tr>\n",
              "      <th>4</th>\n",
              "      <td>best meal ever</td>\n",
              "      <td>4</td>\n",
              "    </tr>\n",
              "  </tbody>\n",
              "</table>\n",
              "</div>"
            ],
            "text/plain": [
              "                 Reviews  Rating\n",
              "0         just like home       5\n",
              "1   great food and staff       4\n",
              "2           satisfaction       4\n",
              "3  true five star dinner       5\n",
              "4         best meal ever       4"
            ]
          },
          "metadata": {
            "tags": []
          },
          "execution_count": 23
        }
      ]
    },
    {
      "cell_type": "code",
      "metadata": {
        "id": "OLKis-FEFGoU",
        "colab_type": "code",
        "colab": {
          "base_uri": "https://localhost:8080/",
          "height": 196
        },
        "outputId": "4f265300-9ba3-4740-fcc7-cf0b380e7fbf"
      },
      "source": [
        "cleaned.columns = [\"X\", \"y\"]\n",
        "cleaned.head()"
      ],
      "execution_count": null,
      "outputs": [
        {
          "output_type": "execute_result",
          "data": {
            "text/html": [
              "<div>\n",
              "<style scoped>\n",
              "    .dataframe tbody tr th:only-of-type {\n",
              "        vertical-align: middle;\n",
              "    }\n",
              "\n",
              "    .dataframe tbody tr th {\n",
              "        vertical-align: top;\n",
              "    }\n",
              "\n",
              "    .dataframe thead th {\n",
              "        text-align: right;\n",
              "    }\n",
              "</style>\n",
              "<table border=\"1\" class=\"dataframe\">\n",
              "  <thead>\n",
              "    <tr style=\"text-align: right;\">\n",
              "      <th></th>\n",
              "      <th>X</th>\n",
              "      <th>y</th>\n",
              "    </tr>\n",
              "  </thead>\n",
              "  <tbody>\n",
              "    <tr>\n",
              "      <th>0</th>\n",
              "      <td>just like home</td>\n",
              "      <td>5</td>\n",
              "    </tr>\n",
              "    <tr>\n",
              "      <th>1</th>\n",
              "      <td>great food and staff</td>\n",
              "      <td>4</td>\n",
              "    </tr>\n",
              "    <tr>\n",
              "      <th>2</th>\n",
              "      <td>satisfaction</td>\n",
              "      <td>4</td>\n",
              "    </tr>\n",
              "    <tr>\n",
              "      <th>3</th>\n",
              "      <td>true five star dinner</td>\n",
              "      <td>5</td>\n",
              "    </tr>\n",
              "    <tr>\n",
              "      <th>4</th>\n",
              "      <td>best meal ever</td>\n",
              "      <td>4</td>\n",
              "    </tr>\n",
              "  </tbody>\n",
              "</table>\n",
              "</div>"
            ],
            "text/plain": [
              "                       X  y\n",
              "0         just like home  5\n",
              "1   great food and staff  4\n",
              "2           satisfaction  4\n",
              "3  true five star dinner  5\n",
              "4         best meal ever  4"
            ]
          },
          "metadata": {
            "tags": []
          },
          "execution_count": 24
        }
      ]
    },
    {
      "cell_type": "code",
      "metadata": {
        "id": "rKL1TGZbFP22",
        "colab_type": "code",
        "colab": {
          "base_uri": "https://localhost:8080/",
          "height": 33
        },
        "outputId": "749e9e45-8ff6-482a-b6ff-64f82d1f610a"
      },
      "source": [
        "len(cleaned)"
      ],
      "execution_count": null,
      "outputs": [
        {
          "output_type": "execute_result",
          "data": {
            "text/plain": [
              "96817"
            ]
          },
          "metadata": {
            "tags": []
          },
          "execution_count": 25
        }
      ]
    },
    {
      "cell_type": "code",
      "metadata": {
        "id": "0B_FYr5XFYcr",
        "colab_type": "code",
        "colab": {
          "base_uri": "https://localhost:8080/",
          "height": 33
        },
        "outputId": "69ecb322-e362-454e-b45c-5d99713efe75"
      },
      "source": [
        "cleaned = cleaned[cleaned[\"y\"] > 0]\n",
        "cleaned.head()\n",
        "len(cleaned)"
      ],
      "execution_count": null,
      "outputs": [
        {
          "output_type": "execute_result",
          "data": {
            "text/plain": [
              "96805"
            ]
          },
          "metadata": {
            "tags": []
          },
          "execution_count": 26
        }
      ]
    },
    {
      "cell_type": "code",
      "metadata": {
        "id": "Aq5UBZdmFcZu",
        "colab_type": "code",
        "colab": {
          "base_uri": "https://localhost:8080/",
          "height": 167
        },
        "outputId": "da867288-410b-44dd-cc6f-544335c8bc14"
      },
      "source": [
        "cleaned[\"review_size\"] = cleaned[\"X\"].str.count(\" \")\n",
        "cleaned[\"review_size\"].describe()"
      ],
      "execution_count": null,
      "outputs": [
        {
          "output_type": "execute_result",
          "data": {
            "text/plain": [
              "count    96805.000000\n",
              "mean         3.040153\n",
              "std          2.056676\n",
              "min          0.000000\n",
              "25%          1.000000\n",
              "50%          3.000000\n",
              "75%          4.000000\n",
              "max         11.000000\n",
              "Name: review_size, dtype: float64"
            ]
          },
          "metadata": {
            "tags": []
          },
          "execution_count": 27
        }
      ]
    },
    {
      "cell_type": "code",
      "metadata": {
        "id": "Ae8LWOWiFjff",
        "colab_type": "code",
        "colab": {
          "base_uri": "https://localhost:8080/",
          "height": 442
        },
        "outputId": "e358a219-a76c-4462-9f60-8c075630da2c"
      },
      "source": [
        "cleaned[\"review_size\"].plot(title=\"Number of words per review\", figsize=(20, 8))"
      ],
      "execution_count": null,
      "outputs": [
        {
          "output_type": "execute_result",
          "data": {
            "text/plain": [
              "<matplotlib.axes._subplots.AxesSubplot at 0x7f24b78845c0>"
            ]
          },
          "metadata": {
            "tags": []
          },
          "execution_count": 28
        },
        {
          "output_type": "display_data",
          "data": {
            "image/png": "[encoded data removed]",
            "text/plain": [
              "<Figure size 1440x576 with 1 Axes>"
            ]
          },
          "metadata": {
            "tags": [],
            "needs_background": "light"
          }
        }
      ]
    },
    {
      "cell_type": "code",
      "metadata": {
        "id": "10qhMCOpFouB",
        "colab_type": "code",
        "colab": {
          "base_uri": "https://localhost:8080/",
          "height": 286
        },
        "outputId": "a7b75fc0-b591-4979-abac-a84b9e28b0ea"
      },
      "source": [
        "del cleaned[\"review_size\"]\n",
        "cleaned.describe()"
      ],
      "execution_count": null,
      "outputs": [
        {
          "output_type": "execute_result",
          "data": {
            "text/html": [
              "<div>\n",
              "<style scoped>\n",
              "    .dataframe tbody tr th:only-of-type {\n",
              "        vertical-align: middle;\n",
              "    }\n",
              "\n",
              "    .dataframe tbody tr th {\n",
              "        vertical-align: top;\n",
              "    }\n",
              "\n",
              "    .dataframe thead th {\n",
              "        text-align: right;\n",
              "    }\n",
              "</style>\n",
              "<table border=\"1\" class=\"dataframe\">\n",
              "  <thead>\n",
              "    <tr style=\"text-align: right;\">\n",
              "      <th></th>\n",
              "      <th>y</th>\n",
              "    </tr>\n",
              "  </thead>\n",
              "  <tbody>\n",
              "    <tr>\n",
              "      <th>count</th>\n",
              "      <td>96805.000000</td>\n",
              "    </tr>\n",
              "    <tr>\n",
              "      <th>mean</th>\n",
              "      <td>3.934673</td>\n",
              "    </tr>\n",
              "    <tr>\n",
              "      <th>std</th>\n",
              "      <td>0.542127</td>\n",
              "    </tr>\n",
              "    <tr>\n",
              "      <th>min</th>\n",
              "      <td>1.000000</td>\n",
              "    </tr>\n",
              "    <tr>\n",
              "      <th>25%</th>\n",
              "      <td>4.000000</td>\n",
              "    </tr>\n",
              "    <tr>\n",
              "      <th>50%</th>\n",
              "      <td>4.000000</td>\n",
              "    </tr>\n",
              "    <tr>\n",
              "      <th>75%</th>\n",
              "      <td>4.000000</td>\n",
              "    </tr>\n",
              "    <tr>\n",
              "      <th>max</th>\n",
              "      <td>5.000000</td>\n",
              "    </tr>\n",
              "  </tbody>\n",
              "</table>\n",
              "</div>"
            ],
            "text/plain": [
              "                  y\n",
              "count  96805.000000\n",
              "mean       3.934673\n",
              "std        0.542127\n",
              "min        1.000000\n",
              "25%        4.000000\n",
              "50%        4.000000\n",
              "75%        4.000000\n",
              "max        5.000000"
            ]
          },
          "metadata": {
            "tags": []
          },
          "execution_count": 29
        }
      ]
    },
    {
      "cell_type": "code",
      "metadata": {
        "id": "T-4UL0opGJKG",
        "colab_type": "code",
        "colab": {}
      },
      "source": [
        "scores = cleaned.groupby([\"y\"]).agg(\"count\")"
      ],
      "execution_count": null,
      "outputs": []
    },
    {
      "cell_type": "code",
      "metadata": {
        "id": "PmpJm6RbGTBT",
        "colab_type": "code",
        "colab": {
          "base_uri": "https://localhost:8080/",
          "height": 472
        },
        "outputId": "3bcaf6cf-c754-47f5-f3d1-4910e98ca550"
      },
      "source": [
        "scores.plot(kind='bar', title=\"Review by number of stars\", figsize=(10, 7))"
      ],
      "execution_count": null,
      "outputs": [
        {
          "output_type": "execute_result",
          "data": {
            "text/plain": [
              "<matplotlib.axes._subplots.AxesSubplot at 0x7f24b780eb00>"
            ]
          },
          "metadata": {
            "tags": []
          },
          "execution_count": 32
        },
        {
          "output_type": "display_data",
          "data": {
            "image/png": "[encoded data removed]",
            "text/plain": [
              "<Figure size 720x504 with 1 Axes>"
            ]
          },
          "metadata": {
            "tags": [],
            "needs_background": "light"
          }
        }
      ]
    },
    {
      "cell_type": "code",
      "metadata": {
        "id": "LDEbWIDmGdg8",
        "colab_type": "code",
        "colab": {
          "base_uri": "https://localhost:8080/",
          "height": 33
        },
        "outputId": "3facdac3-c100-401b-c1b4-d7f70d9635c4"
      },
      "source": [
        "from keras.preprocessing.text import Tokenizer\n",
        "from keras.preprocessing.sequence import pad_sequences"
      ],
      "execution_count": null,
      "outputs": [
        {
          "output_type": "stream",
          "text": [
            "Using TensorFlow backend.\n"
          ],
          "name": "stderr"
        }
      ]
    },
    {
      "cell_type": "code",
      "metadata": {
        "id": "YlxfAFRQGg5u",
        "colab_type": "code",
        "colab": {
          "base_uri": "https://localhost:8080/",
          "height": 33
        },
        "outputId": "b814f757-a563-4ca7-b845-aa9dc06a66b3"
      },
      "source": [
        "# Lets tokenize the works, we will only keep the 20.000 most common words\n",
        "VOCAB_SIZE=20000\n",
        "tokenizer = Tokenizer(num_words=VOCAB_SIZE)\n",
        "tokenizer.fit_on_texts(cleaned[\"X\"])\n",
        "sequences = tokenizer.texts_to_sequences(cleaned[\"X\"])\n",
        "print(\"Number of sequences\", len(sequences))"
      ],
      "execution_count": null,
      "outputs": [
        {
          "output_type": "stream",
          "text": [
            "Number of sequences 96805\n"
          ],
          "name": "stdout"
        }
      ]
    },
    {
      "cell_type": "code",
      "metadata": {
        "id": "HrXz8TirGkaY",
        "colab_type": "code",
        "colab": {
          "base_uri": "https://localhost:8080/",
          "height": 50
        },
        "outputId": "d95d310c-28ae-4480-8688-83fcea92831e"
      },
      "source": [
        "word_index = tokenizer.word_index\n",
        "print('Found %s unique tokens.' % len(word_index))\n",
        "print(\"Index for 'great' is \", word_index[\"great\"])"
      ],
      "execution_count": null,
      "outputs": [
        {
          "output_type": "stream",
          "text": [
            "Found 17925 unique tokens.\n",
            "Index for 'great' is  3\n"
          ],
          "name": "stdout"
        }
      ]
    },
    {
      "cell_type": "code",
      "metadata": {
        "id": "lPT9-pe3GmaR",
        "colab_type": "code",
        "colab": {
          "base_uri": "https://localhost:8080/",
          "height": 33
        },
        "outputId": "00d95f22-11b1-4774-a389-670138c9c968"
      },
      "source": [
        "SEQUENCE_SIZE=120\n",
        "data = pad_sequences(sequences, maxlen=SEQUENCE_SIZE)\n",
        "print(\"Our padded data has a shape of \", data.shape)"
      ],
      "execution_count": null,
      "outputs": [
        {
          "output_type": "stream",
          "text": [
            "Our padded data has a shape of  (96805, 120)\n"
          ],
          "name": "stdout"
        }
      ]
    },
    {
      "cell_type": "code",
      "metadata": {
        "id": "qnq3mfkYGqET",
        "colab_type": "code",
        "colab": {}
      },
      "source": [
        "labels = cleaned[\"y\"]\n",
        "# Normalize the labels to values between 0 and 1, this can be done by simply dividing by 5, we will later need to multiply our predictions by 5\n",
        "labels = labels / 5"
      ],
      "execution_count": null,
      "outputs": []
    },
    {
      "cell_type": "code",
      "metadata": {
        "id": "YdyPyXCtGtEm",
        "colab_type": "code",
        "colab": {
          "base_uri": "https://localhost:8080/",
          "height": 50
        },
        "outputId": "fcf96574-19c5-4897-904a-89c95c65eb74"
      },
      "source": [
        "print('Shape of data tensor:', data.shape)\n",
        "print('Shape of label tensor:', labels.shape)"
      ],
      "execution_count": null,
      "outputs": [
        {
          "output_type": "stream",
          "text": [
            "Shape of data tensor: (96805, 120)\n",
            "Shape of label tensor: (96805,)\n"
          ],
          "name": "stdout"
        }
      ]
    },
    {
      "cell_type": "code",
      "metadata": {
        "id": "lPq2QQ0XGwOE",
        "colab_type": "code",
        "colab": {}
      },
      "source": [
        "validation_split = int(data.shape[0] * 0.7)\n",
        "X_train = data[0: validation_split]\n",
        "y_train = labels[0: validation_split]\n",
        "\n",
        "X_test = data[validation_split:]\n",
        "y_test = labels[validation_split:]"
      ],
      "execution_count": null,
      "outputs": []
    },
    {
      "cell_type": "code",
      "metadata": {
        "id": "weE24X9fGzOG",
        "colab_type": "code",
        "colab": {
          "base_uri": "https://localhost:8080/",
          "height": 50
        },
        "outputId": "c69d1b06-1833-4cf1-a333-4cd00ee44cf4"
      },
      "source": [
        "print(\"X_train\", X_train.shape, \"y_train\", y_train.shape)\n",
        "print(\"X_test\", X_test.shape, \"y_test\", y_test.shape)"
      ],
      "execution_count": null,
      "outputs": [
        {
          "output_type": "stream",
          "text": [
            "X_train (67763, 120) y_train (67763,)\n",
            "X_test (29042, 120) y_test (29042,)\n"
          ],
          "name": "stdout"
        }
      ]
    },
    {
      "cell_type": "markdown",
      "metadata": {
        "id": "XQmr4nrtHH3s",
        "colab_type": "text"
      },
      "source": [
        "LSTM Model"
      ]
    },
    {
      "cell_type": "code",
      "metadata": {
        "id": "PxWLi1RrHHBr",
        "colab_type": "code",
        "colab": {}
      },
      "source": [
        "from keras.models import Sequential\n",
        "from keras.layers import Dense, Activation, Embedding, LSTM, TimeDistributed, Embedding, Dropout\n",
        "EMBEDDING_DIM = 100\n",
        "model = Sequential()\n",
        "model.add(Embedding(VOCAB_SIZE, EMBEDDING_DIM, input_length=SEQUENCE_SIZE))\n",
        "model.add(Dropout(0.3))\n",
        "model.add(LSTM(256))\n",
        "model.add(Dropout(0.3))\n",
        "model.add(Dense(1, activation=\"linear\"))"
      ],
      "execution_count": null,
      "outputs": []
    },
    {
      "cell_type": "code",
      "metadata": {
        "id": "IXVe-7ifHNmw",
        "colab_type": "code",
        "colab": {
          "base_uri": "https://localhost:8080/",
          "height": 401
        },
        "outputId": "cc95eb69-815b-4b40-a0b9-20f6b9b199c6"
      },
      "source": [
        "from keras.optimizers import RMSprop\n",
        "\n",
        "rmsprop = RMSprop(lr=0.0001)\n",
        "\n",
        "model.compile(loss='mae', optimizer=rmsprop)\n",
        "for layer in model.layers:\n",
        "    print(\"Layer\", layer.name, \"Is trainable? ==>\", layer.trainable)\n",
        "model.summary()"
      ],
      "execution_count": null,
      "outputs": [
        {
          "output_type": "stream",
          "text": [
            "Layer embedding_1 Is trainable? ==> True\n",
            "Layer dropout_1 Is trainable? ==> True\n",
            "Layer lstm_1 Is trainable? ==> True\n",
            "Layer dropout_2 Is trainable? ==> True\n",
            "Layer dense_1 Is trainable? ==> True\n",
            "Model: \"sequential_1\"\n",
            "_________________________________________________________________\n",
            "Layer (type)                 Output Shape              Param #   \n",
            "=================================================================\n",
            "embedding_1 (Embedding)      (None, 120, 100)          2000000   \n",
            "_________________________________________________________________\n",
            "dropout_1 (Dropout)          (None, 120, 100)          0         \n",
            "_________________________________________________________________\n",
            "lstm_1 (LSTM)                (None, 256)               365568    \n",
            "_________________________________________________________________\n",
            "dropout_2 (Dropout)          (None, 256)               0         \n",
            "_________________________________________________________________\n",
            "dense_1 (Dense)              (None, 1)                 257       \n",
            "=================================================================\n",
            "Total params: 2,365,825\n",
            "Trainable params: 2,365,825\n",
            "Non-trainable params: 0\n",
            "_________________________________________________________________\n"
          ],
          "name": "stdout"
        }
      ]
    },
    {
      "cell_type": "code",
      "metadata": {
        "id": "hkiK5FjaHT1v",
        "colab_type": "code",
        "colab": {
          "base_uri": "https://localhost:8080/",
          "height": 354
        },
        "outputId": "36a41b88-d41f-41c0-91a7-bbd25e3eeb00"
      },
      "source": [
        "history = model.fit(X_train, y_train, epochs=8, batch_size=32, validation_split=0.3)"
      ],
      "execution_count": null,
      "outputs": [
        {
          "output_type": "stream",
          "text": [
            "/usr/local/lib/python3.6/dist-packages/tensorflow/python/framework/indexed_slices.py:434: UserWarning: Converting sparse IndexedSlices to a dense Tensor of unknown shape. This may consume a large amount of memory.\n",
            "  \"Converting sparse IndexedSlices to a dense Tensor of unknown shape. \"\n"
          ],
          "name": "stderr"
        },
        {
          "output_type": "stream",
          "text": [
            "Train on 47434 samples, validate on 20329 samples\n",
            "Epoch 1/8\n",
            "47434/47434 [==============================] - 303s 6ms/step - loss: 0.0852 - val_loss: 0.0752\n",
            "Epoch 2/8\n",
            "47434/47434 [==============================] - 302s 6ms/step - loss: 0.0678 - val_loss: 0.0647\n",
            "Epoch 3/8\n",
            "47434/47434 [==============================] - 301s 6ms/step - loss: 0.0651 - val_loss: 0.0649\n",
            "Epoch 4/8\n",
            "47434/47434 [==============================] - 300s 6ms/step - loss: 0.0634 - val_loss: 0.0738\n",
            "Epoch 5/8\n",
            "47434/47434 [==============================] - 304s 6ms/step - loss: 0.0620 - val_loss: 0.0632\n",
            "Epoch 6/8\n",
            "47434/47434 [==============================] - 307s 6ms/step - loss: 0.0611 - val_loss: 0.0641\n",
            "Epoch 7/8\n",
            "47434/47434 [==============================] - 316s 7ms/step - loss: 0.0605 - val_loss: 0.0782\n",
            "Epoch 8/8\n",
            "47434/47434 [==============================] - 322s 7ms/step - loss: 0.0599 - val_loss: 0.0633\n"
          ],
          "name": "stdout"
        }
      ]
    },
    {
      "cell_type": "code",
      "metadata": {
        "id": "Ng-gZPiYHYU0",
        "colab_type": "code",
        "colab": {
          "base_uri": "https://localhost:8080/",
          "height": 286
        },
        "outputId": "0b43dcab-60e4-4cd9-cc25-74910fd60c96"
      },
      "source": [
        "model_history = pd.DataFrame.from_dict(history.history)\n",
        "model_history"
      ],
      "execution_count": null,
      "outputs": [
        {
          "output_type": "execute_result",
          "data": {
            "text/html": [
              "<div>\n",
              "<style scoped>\n",
              "    .dataframe tbody tr th:only-of-type {\n",
              "        vertical-align: middle;\n",
              "    }\n",
              "\n",
              "    .dataframe tbody tr th {\n",
              "        vertical-align: top;\n",
              "    }\n",
              "\n",
              "    .dataframe thead th {\n",
              "        text-align: right;\n",
              "    }\n",
              "</style>\n",
              "<table border=\"1\" class=\"dataframe\">\n",
              "  <thead>\n",
              "    <tr style=\"text-align: right;\">\n",
              "      <th></th>\n",
              "      <th>val_loss</th>\n",
              "      <th>loss</th>\n",
              "    </tr>\n",
              "  </thead>\n",
              "  <tbody>\n",
              "    <tr>\n",
              "      <th>0</th>\n",
              "      <td>0.075175</td>\n",
              "      <td>0.085192</td>\n",
              "    </tr>\n",
              "    <tr>\n",
              "      <th>1</th>\n",
              "      <td>0.064686</td>\n",
              "      <td>0.067799</td>\n",
              "    </tr>\n",
              "    <tr>\n",
              "      <th>2</th>\n",
              "      <td>0.064881</td>\n",
              "      <td>0.065083</td>\n",
              "    </tr>\n",
              "    <tr>\n",
              "      <th>3</th>\n",
              "      <td>0.073804</td>\n",
              "      <td>0.063384</td>\n",
              "    </tr>\n",
              "    <tr>\n",
              "      <th>4</th>\n",
              "      <td>0.063233</td>\n",
              "      <td>0.061977</td>\n",
              "    </tr>\n",
              "    <tr>\n",
              "      <th>5</th>\n",
              "      <td>0.064099</td>\n",
              "      <td>0.061104</td>\n",
              "    </tr>\n",
              "    <tr>\n",
              "      <th>6</th>\n",
              "      <td>0.078195</td>\n",
              "      <td>0.060514</td>\n",
              "    </tr>\n",
              "    <tr>\n",
              "      <th>7</th>\n",
              "      <td>0.063334</td>\n",
              "      <td>0.059865</td>\n",
              "    </tr>\n",
              "  </tbody>\n",
              "</table>\n",
              "</div>"
            ],
            "text/plain": [
              "   val_loss      loss\n",
              "0  0.075175  0.085192\n",
              "1  0.064686  0.067799\n",
              "2  0.064881  0.065083\n",
              "3  0.073804  0.063384\n",
              "4  0.063233  0.061977\n",
              "5  0.064099  0.061104\n",
              "6  0.078195  0.060514\n",
              "7  0.063334  0.059865"
            ]
          },
          "metadata": {
            "tags": []
          },
          "execution_count": 44
        }
      ]
    },
    {
      "cell_type": "code",
      "metadata": {
        "id": "kd0s_m6EQ1Ks",
        "colab_type": "code",
        "colab": {
          "base_uri": "https://localhost:8080/",
          "height": 398
        },
        "outputId": "285f55a7-0fe6-4db8-f78e-70a7dc5b9118"
      },
      "source": [
        "model_history[[\"loss\", \"val_loss\"]].plot(title=\"Learning curve, loss\", figsize=(17, 6))"
      ],
      "execution_count": null,
      "outputs": [
        {
          "output_type": "execute_result",
          "data": {
            "text/plain": [
              "<matplotlib.axes._subplots.AxesSubplot at 0x7f2416566a58>"
            ]
          },
          "metadata": {
            "tags": []
          },
          "execution_count": 45
        },
        {
          "output_type": "display_data",
          "data": {
            "image/png": "[encoded data removed]",
            "text/plain": [
              "<Figure size 1224x432 with 1 Axes>"
            ]
          },
          "metadata": {
            "tags": [],
            "needs_background": "light"
          }
        }
      ]
    },
    {
      "cell_type": "code",
      "metadata": {
        "id": "rGrky-CuQ46R",
        "colab_type": "code",
        "colab": {
          "base_uri": "https://localhost:8080/",
          "height": 50
        },
        "outputId": "02fe43a3-9b02-479c-844f-3c18c499857b"
      },
      "source": [
        "results = model.evaluate(X_test, y_test)\n",
        "\n",
        "print(results)"
      ],
      "execution_count": null,
      "outputs": [
        {
          "output_type": "stream",
          "text": [
            "29042/29042 [==============================] - 16s 565us/step\n",
            "0.04137009042787548\n"
          ],
          "name": "stdout"
        }
      ]
    },
    {
      "cell_type": "code",
      "metadata": {
        "id": "nUfbkVmARXo2",
        "colab_type": "code",
        "colab": {
          "base_uri": "https://localhost:8080/",
          "height": 67
        },
        "outputId": "c3943c95-e52a-45d2-f8a4-4790e97ca3ff"
      },
      "source": [
        "five_star_review = \"\"\"True five star dinner\"\"\"\n",
        "three_star_review = \"\"\"Arrogant and bad service, Slow Service, Cold Food\"\"\"\n",
        "one_star_review = \"\"\"Poor quality, small portions, miserable, Awful Service\"\"\"\n",
        "\n",
        "texts = [five_star_review, three_star_review, one_star_review]\n",
        "\n",
        "text_data = pd.DataFrame(data=texts, columns=[\"Reviews\"])\n",
        "text_data[\"Reviews\"] = text_data.apply(clean_text, axis=1)\n",
        "sequences_test = tokenizer.texts_to_sequences(text_data[\"Reviews\"])\n",
        "to_predict = pad_sequences(sequences_test, maxlen=SEQUENCE_SIZE)\n",
        "\n",
        "output = model.predict(to_predict, verbose=False)\n",
        "print(\"Predicted\", output*5)"
      ],
      "execution_count": null,
      "outputs": [
        {
          "output_type": "stream",
          "text": [
            "Predicted [[4.012465 ]\n",
            " [3.9299836]\n",
            " [3.9358373]]\n"
          ],
          "name": "stdout"
        }
      ]
    },
    {
      "cell_type": "code",
      "metadata": {
        "id": "NNd6X8JJS0or",
        "colab_type": "code",
        "colab": {
          "base_uri": "https://localhost:8080/",
          "height": 100
        },
        "outputId": "b4ccc8e5-a435-46f2-a8b4-84b3fa6c35be"
      },
      "source": [
        "embeddings_index = {}\n",
        "with open('/content/glove.6B.100d.txt', 'r') as f:\n",
        "    # data = f.read()\n",
        "  count = 0\n",
        "  for line in f:\n",
        "      count += 1\n",
        "      if count % 100000 == 0:\n",
        "          print(count, \"vectors so far...\")\n",
        "      values = line.split()\n",
        "      word = values[0]\n",
        "      coefs = np.asarray(values[1:], dtype='float32')\n",
        "      embeddings_index[word] = coefs\n",
        "  f.close()\n",
        "  print('Found %s word vectors.' % len(embeddings_index))"
      ],
      "execution_count": null,
      "outputs": [
        {
          "output_type": "stream",
          "text": [
            "100000 vectors so far...\n",
            "200000 vectors so far...\n",
            "300000 vectors so far...\n",
            "400000 vectors so far...\n",
            "Found 400000 word vectors.\n"
          ],
          "name": "stdout"
        }
      ]
    },
    {
      "cell_type": "code",
      "metadata": {
        "id": "RVpfzV0KUGRm",
        "colab_type": "code",
        "colab": {
          "base_uri": "https://localhost:8080/",
          "height": 318
        },
        "outputId": "363df5a1-161f-41f7-b5ad-1cacbc2750d1"
      },
      "source": [
        "print(\"Word 'great' has a vector like this \\n\", embeddings_index[\"great\"])"
      ],
      "execution_count": null,
      "outputs": [
        {
          "output_type": "stream",
          "text": [
            "Word 'great' has a vector like this \n",
            " [-0.013786   0.38216    0.53236    0.15261   -0.29694   -0.20558\n",
            " -0.41846   -0.58437   -0.77355   -0.87866   -0.37858   -0.18516\n",
            " -0.128     -0.20584   -0.22925   -0.42599    0.3725     0.26077\n",
            " -1.0702     0.62916   -0.091469   0.70348   -0.4973    -0.77691\n",
            "  0.66045    0.09465   -0.44893    0.018917   0.33146   -0.35022\n",
            " -0.35789    0.030313   0.22253   -0.23236   -0.19719   -0.0053125\n",
            " -0.25848    0.58081   -0.10705   -0.17845   -0.16206    0.087086\n",
            "  0.63029   -0.76649    0.51619    0.14073    1.019     -0.43136\n",
            "  0.46138   -0.43585   -0.47568    0.19226    0.36065    0.78987\n",
            "  0.088945  -2.7814    -0.15366    0.01015    1.1798     0.15168\n",
            " -0.050112   1.2626    -0.77527    0.36031    0.95761   -0.11385\n",
            "  0.28035   -0.02591    0.31246   -0.15424    0.3778    -0.13599\n",
            "  0.2946    -0.31579    0.42943    0.086969   0.019169  -0.27242\n",
            " -0.31696    0.37327    0.61997    0.13889    0.17188    0.30363\n",
            " -1.2776     0.044423  -0.52736   -0.88536   -0.19428   -0.61947\n",
            " -0.10146   -0.26301   -0.061707   0.36627   -0.95223   -0.39346\n",
            " -0.69183   -1.0426     0.28855    0.63056  ]\n"
          ],
          "name": "stdout"
        }
      ]
    },
    {
      "cell_type": "code",
      "metadata": {
        "id": "bC4lf4MSUJrL",
        "colab_type": "code",
        "colab": {
          "base_uri": "https://localhost:8080/",
          "height": 33
        },
        "outputId": "8b2a761a-025c-40c8-ac20-8d04374ad466"
      },
      "source": [
        "embedding_matrix = np.zeros((len(word_index) + 1, EMBEDDING_DIM))\n",
        "for word, i in word_index.items():\n",
        "    embedding_vector = embeddings_index.get(word)\n",
        "    if embedding_vector is not None:\n",
        "        # words not found in embedding index will be all-zeros.\n",
        "        embedding_matrix[i] = embedding_vector\n",
        "\n",
        "print(\"Size of the embedding matrix is \", embedding_matrix.shape)"
      ],
      "execution_count": null,
      "outputs": [
        {
          "output_type": "stream",
          "text": [
            "Size of the embedding matrix is  (17926, 100)\n"
          ],
          "name": "stdout"
        }
      ]
    },
    {
      "cell_type": "code",
      "metadata": {
        "id": "7wF3JeEKULpb",
        "colab_type": "code",
        "colab": {}
      },
      "source": [
        "embedding_layer = Embedding(len(word_index) + 1,  # Input dim\n",
        "                            EMBEDDING_DIM,  # Output dim\n",
        "                            weights=[embedding_matrix],\n",
        "                            input_length=SEQUENCE_SIZE,  \n",
        "                            trainable=False)\n",
        "\n",
        "# This layer will take an input of \n",
        "#           BatchSize x SEQUENCE_SIZE\n",
        "# And the output will be\n",
        "#           None, SEQUENCE_LENGTH, 100"
      ],
      "execution_count": null,
      "outputs": []
    },
    {
      "cell_type": "code",
      "metadata": {
        "id": "fbpAA4A_UOR6",
        "colab_type": "code",
        "colab": {}
      },
      "source": [
        "from keras.layers import Flatten, TimeDistributed\n",
        "model = Sequential()\n",
        "model.add(embedding_layer)\n",
        "model.add(Dropout(0.3))\n",
        "model.add(LSTM(128))\n",
        "model.add(Dropout(0.3))\n",
        "model.add((Dense(1, activation='linear')))"
      ],
      "execution_count": null,
      "outputs": []
    },
    {
      "cell_type": "code",
      "metadata": {
        "id": "5-NJysD9UZ0M",
        "colab_type": "code",
        "colab": {
          "base_uri": "https://localhost:8080/",
          "height": 401
        },
        "outputId": "ea23673e-5c54-4814-e010-4966e6e84482"
      },
      "source": [
        "rmsprop = RMSprop(lr=0.001)\n",
        "\n",
        "model.compile(loss='mae', optimizer=rmsprop)\n",
        "\n",
        "for layer in model.layers:\n",
        "    print(\"Layer\", layer.name, \"Is trainable? ==>\", layer.trainable)\n",
        "model.summary()"
      ],
      "execution_count": null,
      "outputs": [
        {
          "output_type": "stream",
          "text": [
            "Layer embedding_3 Is trainable? ==> False\n",
            "Layer dropout_3 Is trainable? ==> True\n",
            "Layer lstm_2 Is trainable? ==> True\n",
            "Layer dropout_4 Is trainable? ==> True\n",
            "Layer dense_2 Is trainable? ==> True\n",
            "Model: \"sequential_2\"\n",
            "_________________________________________________________________\n",
            "Layer (type)                 Output Shape              Param #   \n",
            "=================================================================\n",
            "embedding_3 (Embedding)      (None, 120, 100)          1792600   \n",
            "_________________________________________________________________\n",
            "dropout_3 (Dropout)          (None, 120, 100)          0         \n",
            "_________________________________________________________________\n",
            "lstm_2 (LSTM)                (None, 128)               117248    \n",
            "_________________________________________________________________\n",
            "dropout_4 (Dropout)          (None, 128)               0         \n",
            "_________________________________________________________________\n",
            "dense_2 (Dense)              (None, 1)                 129       \n",
            "=================================================================\n",
            "Total params: 1,909,977\n",
            "Trainable params: 117,377\n",
            "Non-trainable params: 1,792,600\n",
            "_________________________________________________________________\n"
          ],
          "name": "stdout"
        }
      ]
    },
    {
      "cell_type": "code",
      "metadata": {
        "id": "6ewxz6fUUeOg",
        "colab_type": "code",
        "colab": {
          "base_uri": "https://localhost:8080/",
          "height": 301
        },
        "outputId": "dfd345f6-4ffe-480e-9f3d-d725e9cd8848"
      },
      "source": [
        "history = model.fit(X_train, y_train, epochs=8, batch_size=32, validation_split=0.3)"
      ],
      "execution_count": null,
      "outputs": [
        {
          "output_type": "stream",
          "text": [
            "Train on 47434 samples, validate on 20329 samples\n",
            "Epoch 1/8\n",
            "47434/47434 [==============================] - 291s 6ms/step - loss: 0.0743 - val_loss: 0.0783\n",
            "Epoch 2/8\n",
            "47434/47434 [==============================] - 293s 6ms/step - loss: 0.0649 - val_loss: 0.0731\n",
            "Epoch 3/8\n",
            "47434/47434 [==============================] - 296s 6ms/step - loss: 0.0577 - val_loss: 0.0659\n",
            "Epoch 4/8\n",
            "47434/47434 [==============================] - 292s 6ms/step - loss: 0.0514 - val_loss: 0.0677\n",
            "Epoch 5/8\n",
            "47434/47434 [==============================] - 289s 6ms/step - loss: 0.0462 - val_loss: 0.0677\n",
            "Epoch 6/8\n",
            "47434/47434 [==============================] - 297s 6ms/step - loss: 0.0418 - val_loss: 0.0603\n",
            "Epoch 7/8\n",
            "47434/47434 [==============================] - 300s 6ms/step - loss: 0.0402 - val_loss: 0.0609\n",
            "Epoch 8/8\n",
            "47434/47434 [==============================] - 300s 6ms/step - loss: 0.0402 - val_loss: 0.0603\n"
          ],
          "name": "stdout"
        }
      ]
    },
    {
      "cell_type": "code",
      "metadata": {
        "id": "QmbAw35ZeMh7",
        "colab_type": "code",
        "colab": {
          "base_uri": "https://localhost:8080/",
          "height": 286
        },
        "outputId": "8bca1dac-8c03-41b4-c765-fa4f060173c8"
      },
      "source": [
        "model_history = pd.DataFrame.from_dict(history.history)\n",
        "model_history"
      ],
      "execution_count": null,
      "outputs": [
        {
          "output_type": "execute_result",
          "data": {
            "text/html": [
              "<div>\n",
              "<style scoped>\n",
              "    .dataframe tbody tr th:only-of-type {\n",
              "        vertical-align: middle;\n",
              "    }\n",
              "\n",
              "    .dataframe tbody tr th {\n",
              "        vertical-align: top;\n",
              "    }\n",
              "\n",
              "    .dataframe thead th {\n",
              "        text-align: right;\n",
              "    }\n",
              "</style>\n",
              "<table border=\"1\" class=\"dataframe\">\n",
              "  <thead>\n",
              "    <tr style=\"text-align: right;\">\n",
              "      <th></th>\n",
              "      <th>val_loss</th>\n",
              "      <th>loss</th>\n",
              "    </tr>\n",
              "  </thead>\n",
              "  <tbody>\n",
              "    <tr>\n",
              "      <th>0</th>\n",
              "      <td>0.078305</td>\n",
              "      <td>0.074300</td>\n",
              "    </tr>\n",
              "    <tr>\n",
              "      <th>1</th>\n",
              "      <td>0.073052</td>\n",
              "      <td>0.064879</td>\n",
              "    </tr>\n",
              "    <tr>\n",
              "      <th>2</th>\n",
              "      <td>0.065910</td>\n",
              "      <td>0.057651</td>\n",
              "    </tr>\n",
              "    <tr>\n",
              "      <th>3</th>\n",
              "      <td>0.067723</td>\n",
              "      <td>0.051427</td>\n",
              "    </tr>\n",
              "    <tr>\n",
              "      <th>4</th>\n",
              "      <td>0.067689</td>\n",
              "      <td>0.046238</td>\n",
              "    </tr>\n",
              "    <tr>\n",
              "      <th>5</th>\n",
              "      <td>0.060279</td>\n",
              "      <td>0.041801</td>\n",
              "    </tr>\n",
              "    <tr>\n",
              "      <th>6</th>\n",
              "      <td>0.060850</td>\n",
              "      <td>0.040249</td>\n",
              "    </tr>\n",
              "    <tr>\n",
              "      <th>7</th>\n",
              "      <td>0.060345</td>\n",
              "      <td>0.040199</td>\n",
              "    </tr>\n",
              "  </tbody>\n",
              "</table>\n",
              "</div>"
            ],
            "text/plain": [
              "   val_loss      loss\n",
              "0  0.078305  0.074300\n",
              "1  0.073052  0.064879\n",
              "2  0.065910  0.057651\n",
              "3  0.067723  0.051427\n",
              "4  0.067689  0.046238\n",
              "5  0.060279  0.041801\n",
              "6  0.060850  0.040249\n",
              "7  0.060345  0.040199"
            ]
          },
          "metadata": {
            "tags": []
          },
          "execution_count": 61
        }
      ]
    },
    {
      "cell_type": "code",
      "metadata": {
        "id": "ERbdZdK6ePnY",
        "colab_type": "code",
        "colab": {
          "base_uri": "https://localhost:8080/",
          "height": 398
        },
        "outputId": "6cddb8bc-b61a-4b19-ff9e-0940766e033f"
      },
      "source": [
        "model_history[[\"loss\", \"val_loss\"]][model_history[\"loss\"]< 3].plot(title=\"Learning curve, loss\", figsize=(17, 6))"
      ],
      "execution_count": null,
      "outputs": [
        {
          "output_type": "execute_result",
          "data": {
            "text/plain": [
              "<matplotlib.axes._subplots.AxesSubplot at 0x7f23f5a2e518>"
            ]
          },
          "metadata": {
            "tags": []
          },
          "execution_count": 62
        },
        {
          "output_type": "display_data",
          "data": {
            "image/png": "[encoded data removed]",
            "text/plain": [
              "<Figure size 1224x432 with 1 Axes>"
            ]
          },
          "metadata": {
            "tags": [],
            "needs_background": "light"
          }
        }
      ]
    },
    {
      "cell_type": "code",
      "metadata": {
        "id": "5gu3sfoqeTNy",
        "colab_type": "code",
        "colab": {
          "base_uri": "https://localhost:8080/",
          "height": 67
        },
        "outputId": "43fe2ef4-850b-4aa6-8ef7-88b824acfad8"
      },
      "source": [
        "output = model.predict(to_predict, verbose=False)\n",
        "print(\"Predicted\", output*5)"
      ],
      "execution_count": null,
      "outputs": [
        {
          "output_type": "stream",
          "text": [
            "Predicted [[3.9974165]\n",
            " [3.9958153]\n",
            " [3.991908 ]]\n"
          ],
          "name": "stdout"
        }
      ]
    },
    {
      "cell_type": "code",
      "metadata": {
        "id": "2DSlx29EealO",
        "colab_type": "code",
        "colab": {
          "base_uri": "https://localhost:8080/",
          "height": 50
        },
        "outputId": "4e7c5230-271d-43a5-bf59-94594fc61992"
      },
      "source": [
        "model.evaluate(X_test, y_test)"
      ],
      "execution_count": null,
      "outputs": [
        {
          "output_type": "stream",
          "text": [
            "29042/29042 [==============================] - 16s 546us/step\n"
          ],
          "name": "stdout"
        },
        {
          "output_type": "execute_result",
          "data": {
            "text/plain": [
              "0.0379214518474618"
            ]
          },
          "metadata": {
            "tags": []
          },
          "execution_count": 64
        }
      ]
    },
    {
      "cell_type": "markdown",
      "metadata": {
        "id": "5Ym5y8IGdNHa",
        "colab_type": "text"
      },
      "source": [
        "With Labelling the Reviews"
      ]
    },
    {
      "cell_type": "code",
      "metadata": {
        "id": "K-qlxiwhjW7W",
        "colab_type": "code",
        "colab": {
          "base_uri": "https://localhost:8080/",
          "height": 279
        },
        "outputId": "1e30b8b7-3d2b-4865-df81-5dd9bc720045"
      },
      "source": [
        "import seaborn as sns\n",
        "import matplotlib.pyplot as plt\n",
        "\n",
        "def to_sentiment(rating):\n",
        "  rating = int(rating)\n",
        "  if rating <= 3:\n",
        "    return 0\n",
        "  elif rating == 4:\n",
        "    return 1\n",
        "  else:\n",
        "    return 2\n",
        "raw['sentiment'] = raw.Rating.apply(to_sentiment)\n",
        "class_names = ['negative', 'neutral', 'positive']\n",
        "\n",
        "plt.xlabel('review score');\n",
        "ax = sns.countplot(raw.sentiment)\n",
        "plt.xlabel('review sentiment')\n",
        "ax.set_xticklabels(class_names);"
      ],
      "execution_count": null,
      "outputs": [
        {
          "output_type": "display_data",
          "data": {
            "image/png": "[encoded data removed]",
            "text/plain": [
              "<Figure size 432x288 with 1 Axes>"
            ]
          },
          "metadata": {
            "tags": [],
            "needs_background": "light"
          }
        }
      ]
    },
    {
      "cell_type": "code",
      "metadata": {
        "id": "xng9LLrvj-cQ",
        "colab_type": "code",
        "colab": {
          "base_uri": "https://localhost:8080/",
          "height": 196
        },
        "outputId": "e8691e83-8b50-43fd-96a9-b9a7f2993818"
      },
      "source": [
        "cleaned.head()"
      ],
      "execution_count": null,
      "outputs": [
        {
          "output_type": "execute_result",
          "data": {
            "text/html": [
              "<div>\n",
              "<style scoped>\n",
              "    .dataframe tbody tr th:only-of-type {\n",
              "        vertical-align: middle;\n",
              "    }\n",
              "\n",
              "    .dataframe tbody tr th {\n",
              "        vertical-align: top;\n",
              "    }\n",
              "\n",
              "    .dataframe thead th {\n",
              "        text-align: right;\n",
              "    }\n",
              "</style>\n",
              "<table border=\"1\" class=\"dataframe\">\n",
              "  <thead>\n",
              "    <tr style=\"text-align: right;\">\n",
              "      <th></th>\n",
              "      <th>X</th>\n",
              "      <th>y</th>\n",
              "      <th>sentiment</th>\n",
              "    </tr>\n",
              "  </thead>\n",
              "  <tbody>\n",
              "    <tr>\n",
              "      <th>0</th>\n",
              "      <td>just like home</td>\n",
              "      <td>5</td>\n",
              "      <td>2</td>\n",
              "    </tr>\n",
              "    <tr>\n",
              "      <th>1</th>\n",
              "      <td>great food and staff</td>\n",
              "      <td>4</td>\n",
              "      <td>1</td>\n",
              "    </tr>\n",
              "    <tr>\n",
              "      <th>2</th>\n",
              "      <td>satisfaction</td>\n",
              "      <td>4</td>\n",
              "      <td>1</td>\n",
              "    </tr>\n",
              "    <tr>\n",
              "      <th>3</th>\n",
              "      <td>true five star dinner</td>\n",
              "      <td>5</td>\n",
              "      <td>2</td>\n",
              "    </tr>\n",
              "    <tr>\n",
              "      <th>4</th>\n",
              "      <td>best meal ever</td>\n",
              "      <td>4</td>\n",
              "      <td>1</td>\n",
              "    </tr>\n",
              "  </tbody>\n",
              "</table>\n",
              "</div>"
            ],
            "text/plain": [
              "                       X  y  sentiment\n",
              "0         just like home  5          2\n",
              "1   great food and staff  4          1\n",
              "2           satisfaction  4          1\n",
              "3  true five star dinner  5          2\n",
              "4         best meal ever  4          1"
            ]
          },
          "metadata": {
            "tags": []
          },
          "execution_count": 79
        }
      ]
    },
    {
      "cell_type": "code",
      "metadata": {
        "id": "9CYK_vlRdQbK",
        "colab_type": "code",
        "colab": {
          "base_uri": "https://localhost:8080/",
          "height": 401
        },
        "outputId": "1237d4ba-2b7b-431a-ddc7-0b1bcdc5d07b"
      },
      "source": [
        "rmsprop = RMSprop(lr=0.001)\n",
        "\n",
        "model.compile(loss='mae', optimizer=rmsprop, metrics=['accuracy'])\n",
        "\n",
        "for layer in model.layers:\n",
        "    print(\"Layer\", layer.name, \"Is trainable? ==>\", layer.trainable)\n",
        "model.summary()"
      ],
      "execution_count": null,
      "outputs": [
        {
          "output_type": "stream",
          "text": [
            "Layer embedding_3 Is trainable? ==> False\n",
            "Layer dropout_3 Is trainable? ==> True\n",
            "Layer lstm_2 Is trainable? ==> True\n",
            "Layer dropout_4 Is trainable? ==> True\n",
            "Layer dense_2 Is trainable? ==> True\n",
            "Model: \"sequential_2\"\n",
            "_________________________________________________________________\n",
            "Layer (type)                 Output Shape              Param #   \n",
            "=================================================================\n",
            "embedding_3 (Embedding)      (None, 120, 100)          1792600   \n",
            "_________________________________________________________________\n",
            "dropout_3 (Dropout)          (None, 120, 100)          0         \n",
            "_________________________________________________________________\n",
            "lstm_2 (LSTM)                (None, 128)               117248    \n",
            "_________________________________________________________________\n",
            "dropout_4 (Dropout)          (None, 128)               0         \n",
            "_________________________________________________________________\n",
            "dense_2 (Dense)              (None, 1)                 129       \n",
            "=================================================================\n",
            "Total params: 1,909,977\n",
            "Trainable params: 117,377\n",
            "Non-trainable params: 1,792,600\n",
            "_________________________________________________________________\n"
          ],
          "name": "stdout"
        }
      ]
    },
    {
      "cell_type": "code",
      "metadata": {
        "id": "bnsn9Fzleodb",
        "colab_type": "code",
        "colab": {}
      },
      "source": [
        ""
      ],
      "execution_count": null,
      "outputs": []
    }
  ]
}