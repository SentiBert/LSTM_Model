{
  "nbformat": 4,
  "nbformat_minor": 0,
  "metadata": {
    "colab": {
      "name": "Hotel_Review_LSTM.ipynb",
      "provenance": []
    },
    "kernelspec": {
      "name": "python3",
      "display_name": "Python 3"
    },
    "accelerator": "GPU"
  },
  "cells": [
    {
      "cell_type": "markdown",
      "metadata": {
        "id": "bcY60JpV9fDV",
        "colab_type": "text"
      },
      "source": [
        "LSTM Model"
      ]
    },
    {
      "cell_type": "code",
      "metadata": {
        "id": "wSr1s9pXzH6H",
        "colab_type": "code",
        "colab": {}
      },
      "source": [
        "import tensorflow as tf\n",
        "import pandas as pd\n",
        "import numpy as np\n",
        "from tensorflow.keras.preprocessing.text import Tokenizer\n",
        "from tensorflow.keras.preprocessing.sequence import pad_sequences\n",
        "from sklearn.preprocessing import LabelEncoder\n",
        "from sklearn.model_selection import train_test_split\n",
        "import matplotlib.pyplot as plt\n",
        "import seaborn as sns\n",
        "import tensorflow_datasets as tfds"
      ],
      "execution_count": 84,
      "outputs": []
    },
    {
      "cell_type": "code",
      "metadata": {
        "id": "WdjfTc9rzLVd",
        "colab_type": "code",
        "colab": {
          "base_uri": "https://localhost:8080/",
          "height": 296
        },
        "outputId": "00245f37-213e-459e-e94b-a52e8646a2fa"
      },
      "source": [
        "dataset = pd.read_csv('/content/Hotel_data.csv')\n",
        "negative = len(dataset[dataset['Sentiment']== 0])\n",
        "positive = len(dataset) - negative\n",
        "sns.countplot(dataset['Sentiment'])\n",
        "print('Positive reviews are {} and negative reviews are {} of total {} '.format(positive,negative,len(dataset)))"
      ],
      "execution_count": 85,
      "outputs": [
        {
          "output_type": "stream",
          "text": [
            "Positive reviews are 249236 and negative reviews are 250000 of total 499236 \n"
          ],
          "name": "stdout"
        },
        {
          "output_type": "display_data",
          "data": {
            "image/png": "[encoded data removed]",
            "text/plain": [
              "<Figure size 432x288 with 1 Axes>"
            ]
          },
          "metadata": {
            "tags": [],
            "needs_background": "light"
          }
        }
      ]
    },
    {
      "cell_type": "markdown",
      "metadata": {
        "id": "qKpwyHFl9i7Q",
        "colab_type": "text"
      },
      "source": [
        "DATA PRE-PROCESSING"
      ]
    },
    {
      "cell_type": "code",
      "metadata": {
        "id": "77Rf_RRXzWsg",
        "colab_type": "code",
        "colab": {}
      },
      "source": [
        "le = LabelEncoder()\n",
        "training_reviews,testing_reviews,training_labels,testing_labels  = train_test_split(dataset['Review_concat'].values,dataset['Sentiment'].values,test_size = 0.2)\n",
        "training_labels = le.fit_transform(training_labels)\n",
        "testing_labels = le.fit_transform(testing_labels)"
      ],
      "execution_count": 86,
      "outputs": []
    },
    {
      "cell_type": "code",
      "metadata": {
        "id": "xc7jH6Ozzfsz",
        "colab_type": "code",
        "colab": {
          "base_uri": "https://localhost:8080/",
          "height": 34
        },
        "outputId": "4a9381cd-6ad8-48a4-aa02-7daef40109ec"
      },
      "source": [
        "tokenizer = Tokenizer(num_words=10000,oov_token='<OOV>')\n",
        "tokenizer.fit_on_texts(training_reviews)\n",
        "word_index = tokenizer.word_index\n",
        "training_sequence = tokenizer.texts_to_sequences(training_reviews)\n",
        "testing_sequence = tokenizer.texts_to_sequences(testing_reviews)\n",
        "train_pad_sequence = pad_sequences(training_sequence,maxlen = 200,truncating= 'post',padding = 'pre')\n",
        "test_pad_sequence = pad_sequences(testing_sequence,maxlen = 200,truncating= 'post',padding = 'pre')\n",
        "print('Total Unique Words : {}'.format(len(word_index)))"
      ],
      "execution_count": 87,
      "outputs": [
        {
          "output_type": "stream",
          "text": [
            "Total Unique Words : 46537\n"
          ],
          "name": "stdout"
        }
      ]
    },
    {
      "cell_type": "code",
      "metadata": {
        "id": "9ribK4cqznqd",
        "colab_type": "code",
        "colab": {}
      },
      "source": [
        "embedded_words = {}\n",
        "with open('/content/glove.6B.100d.txt') as file:\n",
        "    for line in file:\n",
        "        words, coeff = line.split(maxsplit=1)\n",
        "        coeff = np.array(coeff.split(),dtype = float)\n",
        "        embedded_words[words] = coeff"
      ],
      "execution_count": 88,
      "outputs": []
    },
    {
      "cell_type": "code",
      "metadata": {
        "id": "85ok56S8zo-q",
        "colab_type": "code",
        "colab": {}
      },
      "source": [
        "embedding_matrix = np.zeros((len(word_index) + 1,100))\n",
        "for word, i in word_index.items():\n",
        "    embedding_vector = embedded_words.get(word)\n",
        "    if embedding_vector is not None:\n",
        "        embedding_matrix[i] = embedding_vector"
      ],
      "execution_count": 89,
      "outputs": []
    },
    {
      "cell_type": "markdown",
      "metadata": {
        "id": "ks9t7Nte9oyD",
        "colab_type": "text"
      },
      "source": [
        "LSTM MODEL"
      ]
    },
    {
      "cell_type": "code",
      "metadata": {
        "id": "pqe--h9-zunO",
        "colab_type": "code",
        "colab": {}
      },
      "source": [
        "model = tf.keras.Sequential([tf.keras.layers.Embedding(len(word_index) + 1,100,weights=[embedding_matrix],input_length=200,\n",
        "                            trainable=False),\n",
        "                             tf.keras.layers.Bidirectional(tf.keras.layers.LSTM(64)),\n",
        "                             tf.keras.layers.Dropout(0.5),\n",
        "                             tf.keras.layers.Dense(256,activation = 'relu',),\n",
        "                             tf.keras.layers.Dense(128,activation = 'relu'),\n",
        "                             tf.keras.layers.Dropout(0.5),\n",
        "                             tf.keras.layers.Dense(1,activation = tf.nn.sigmoid)])\n"
      ],
      "execution_count": 90,
      "outputs": []
    },
    {
      "cell_type": "code",
      "metadata": {
        "id": "Qs9JVRj7zyDE",
        "colab_type": "code",
        "colab": {
          "base_uri": "https://localhost:8080/",
          "height": 391
        },
        "outputId": "7a5744af-525c-4944-80eb-f1b376fdd1e3"
      },
      "source": [
        "model.summary()"
      ],
      "execution_count": 91,
      "outputs": [
        {
          "output_type": "stream",
          "text": [
            "Model: \"sequential_3\"\n",
            "_________________________________________________________________\n",
            "Layer (type)                 Output Shape              Param #   \n",
            "=================================================================\n",
            "embedding_3 (Embedding)      (None, 200, 100)          4653800   \n",
            "_________________________________________________________________\n",
            "bidirectional_1 (Bidirection (None, 128)               84480     \n",
            "_________________________________________________________________\n",
            "dropout_2 (Dropout)          (None, 128)               0         \n",
            "_________________________________________________________________\n",
            "dense_5 (Dense)              (None, 256)               33024     \n",
            "_________________________________________________________________\n",
            "dense_6 (Dense)              (None, 128)               32896     \n",
            "_________________________________________________________________\n",
            "dropout_3 (Dropout)          (None, 128)               0         \n",
            "_________________________________________________________________\n",
            "dense_7 (Dense)              (None, 1)                 129       \n",
            "=================================================================\n",
            "Total params: 4,804,329\n",
            "Trainable params: 150,529\n",
            "Non-trainable params: 4,653,800\n",
            "_________________________________________________________________\n"
          ],
          "name": "stdout"
        }
      ]
    },
    {
      "cell_type": "code",
      "metadata": {
        "id": "vIORFyGfzzUY",
        "colab_type": "code",
        "colab": {
          "base_uri": "https://localhost:8080/",
          "height": 289
        },
        "outputId": "6fc2ec0d-01f3-47f8-8353-03f5038bc26a"
      },
      "source": [
        "model.compile(loss = tf.keras.losses.BinaryCrossentropy() , optimizer='Adam' , metrics = 'accuracy')\n",
        "history = model.fit(train_pad_sequence,training_labels,epochs = 8 ,validation_data=(test_pad_sequence,testing_labels))"
      ],
      "execution_count": 112,
      "outputs": [
        {
          "output_type": "stream",
          "text": [
            "Epoch 1/8\n",
            "12481/12481 [==============================] - 247s 20ms/step - loss: 0.1339 - accuracy: 0.9543 - val_loss: 0.1283 - val_accuracy: 0.9562\n",
            "Epoch 2/8\n",
            "12481/12481 [==============================] - 248s 20ms/step - loss: 0.1292 - accuracy: 0.9568 - val_loss: 0.1294 - val_accuracy: 0.9552\n",
            "Epoch 3/8\n",
            "12481/12481 [==============================] - 249s 20ms/step - loss: 0.1260 - accuracy: 0.9581 - val_loss: 0.1248 - val_accuracy: 0.9577\n",
            "Epoch 4/8\n",
            "12481/12481 [==============================] - 249s 20ms/step - loss: 0.1210 - accuracy: 0.9600 - val_loss: 0.1196 - val_accuracy: 0.9591\n",
            "Epoch 5/8\n",
            "12481/12481 [==============================] - 249s 20ms/step - loss: 0.1179 - accuracy: 0.9612 - val_loss: 0.1200 - val_accuracy: 0.9591\n",
            "Epoch 6/8\n",
            "12481/12481 [==============================] - 249s 20ms/step - loss: 0.1160 - accuracy: 0.9618 - val_loss: 0.1221 - val_accuracy: 0.9600\n",
            "Epoch 7/8\n",
            "12481/12481 [==============================] - 249s 20ms/step - loss: 0.1136 - accuracy: 0.9626 - val_loss: 0.1205 - val_accuracy: 0.9596\n",
            "Epoch 8/8\n",
            "12481/12481 [==============================] - 249s 20ms/step - loss: 0.1117 - accuracy: 0.9635 - val_loss: 0.1196 - val_accuracy: 0.9599\n"
          ],
          "name": "stdout"
        }
      ]
    },
    {
      "cell_type": "code",
      "metadata": {
        "id": "3dQlLUWI3ps4",
        "colab_type": "code",
        "colab": {
          "base_uri": "https://localhost:8080/",
          "height": 545
        },
        "outputId": "2e99e18d-d096-434a-f4cd-9e3957cb18f0"
      },
      "source": [
        "acc = history.history['accuracy']\n",
        "val_acc = history.history['val_accuracy']\n",
        "loss = history.history['loss']\n",
        "val_loss = history.history['val_loss']\n",
        "epochs = range(len(acc))\n",
        "\n",
        "plt.plot(epochs, acc, 'r', label='Training accuracy')\n",
        "plt.plot(epochs, val_acc, 'b', label='Validation accuracy')\n",
        "plt.title('Training and validation accuracy')\n",
        "plt.legend(loc=0)\n",
        "plt.figure()\n",
        "\n",
        "plt.plot(epochs, loss, 'r', label='Training loss')\n",
        "plt.plot(epochs, val_loss, 'b', label='Validation loss')\n",
        "plt.title('Training and validation loss')\n",
        "plt.legend(loc=0)\n",
        "\n",
        "plt.show()"
      ],
      "execution_count": 113,
      "outputs": [
        {
          "output_type": "display_data",
          "data": {
            "image/png": "[encoded data removed]",
            "text/plain": [
              "<Figure size 432x288 with 1 Axes>"
            ]
          },
          "metadata": {
            "tags": [],
            "needs_background": "light"
          }
        },
        {
          "output_type": "display_data",
          "data": {
            "image/png": "[encoded data removed]",
            "text/plain": [
              "<Figure size 432x288 with 1 Axes>"
            ]
          },
          "metadata": {
            "tags": [],
            "needs_background": "light"
          }
        }
      ]
    },
    {
      "cell_type": "code",
      "metadata": {
        "id": "iLh_N87o3qny",
        "colab_type": "code",
        "colab": {
          "base_uri": "https://localhost:8080/",
          "height": 51
        },
        "outputId": "c5cfec9a-7259-495c-be7a-d988bc227215"
      },
      "source": [
        "print('Training Accuracy: {}'.format(max(acc)))\n",
        "print('Validation Accuracy: {}'.format(max(val_acc)))"
      ],
      "execution_count": 115,
      "outputs": [
        {
          "output_type": "stream",
          "text": [
            "Training Accuracy: 0.9634590744972229\n",
            "Validation Accuracy: 0.9600392580032349\n"
          ],
          "name": "stdout"
        }
      ]
    },
    {
      "cell_type": "code",
      "metadata": {
        "id": "mtISaYOZF-o8",
        "colab_type": "code",
        "colab": {
          "base_uri": "https://localhost:8080/",
          "height": 136
        },
        "outputId": "b25e8fda-7d00-4500-ab8a-8b0c80073f4f"
      },
      "source": [
        "yhat = model.predict(train_pad_sequence, verbose=0)\n",
        "print(yhat)"
      ],
      "execution_count": 96,
      "outputs": [
        {
          "output_type": "stream",
          "text": [
            "[[0.02044871]\n",
            " [0.00230072]\n",
            " [0.02670208]\n",
            " ...\n",
            " [0.9998116 ]\n",
            " [0.94671965]\n",
            " [0.01945555]]\n"
          ],
          "name": "stdout"
        }
      ]
    },
    {
      "cell_type": "code",
      "metadata": {
        "id": "ulSw2kzyIlH-",
        "colab_type": "code",
        "colab": {}
      },
      "source": [
        "# make predictions\n",
        "trainPredict = model.predict(train_pad_sequence)\n",
        "testPredict = model.predict(test_pad_sequence)\n"
      ],
      "execution_count": 111,
      "outputs": []
    }
  ]
}