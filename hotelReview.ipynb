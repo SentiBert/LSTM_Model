{
  "nbformat": 4,
  "nbformat_minor": 0,
  "metadata": {
    "colab": {
      "name": "hotelReview.ipynb",
      "provenance": []
    },
    "kernelspec": {
      "name": "python3",
      "display_name": "Python 3"
    }
  },
  "cells": [
    {
      "cell_type": "code",
      "metadata": {
        "id": "bfjlV9aK4XHM",
        "colab_type": "code",
        "colab": {
          "base_uri": "https://localhost:8080/",
          "height": 51
        },
        "outputId": "d6739e75-2856-472a-f24c-16905339566c"
      },
      "source": [
        "import tensorflow as tf\n",
        "import pandas as pd\n",
        "import numpy as np\n",
        "from tensorflow.keras.preprocessing.text import Tokenizer\n",
        "from tensorflow.keras.preprocessing.sequence import pad_sequences\n",
        "from sklearn.preprocessing import LabelEncoder\n",
        "from sklearn.model_selection import train_test_split\n",
        "import matplotlib.pyplot as plt\n",
        "import seaborn as sns\n",
        "import tensorflow_datasets as tfds"
      ],
      "execution_count": 1,
      "outputs": [
        {
          "output_type": "stream",
          "text": [
            "/usr/local/lib/python3.6/dist-packages/statsmodels/tools/_testing.py:19: FutureWarning: pandas.util.testing is deprecated. Use the functions in the public API at pandas.testing instead.\n",
            "  import pandas.util.testing as tm\n"
          ],
          "name": "stderr"
        }
      ]
    },
    {
      "cell_type": "code",
      "metadata": {
        "id": "efLRpbZk4zXM",
        "colab_type": "code",
        "colab": {
          "base_uri": "https://localhost:8080/",
          "height": 296
        },
        "outputId": "b1510805-ff6b-4558-c229-8e5d889b8c0f"
      },
      "source": [
        "dataset = pd.read_csv('/content/Hotel_Reviews_modified.csv')\n",
        "negative = len(dataset[dataset['Sentiment']== 0])\n",
        "positive = len(dataset) - negative\n",
        "sns.countplot(dataset['Sentiment'])\n",
        "print('Positive reviews are {} and negative reviews are {} of total {} '.format(positive,negative,len(dataset)))"
      ],
      "execution_count": 18,
      "outputs": [
        {
          "output_type": "stream",
          "text": [
            "Positive reviews are 5561 and negative reviews are 6908 of total 12469 \n"
          ],
          "name": "stdout"
        },
        {
          "output_type": "display_data",
          "data": {
            "image/png": "[encoded data removed]",
            "text/plain": [
              "<Figure size 432x288 with 1 Axes>"
            ]
          },
          "metadata": {
            "tags": [],
            "needs_background": "light"
          }
        }
      ]
    },
    {
      "cell_type": "code",
      "metadata": {
        "id": "bjbag9YH5PJM",
        "colab_type": "code",
        "colab": {}
      },
      "source": [
        "le = LabelEncoder()\n",
        "training_reviews,testing_reviews,training_labels,testing_labels  = train_test_split(dataset['Review'].values,dataset['Sentiment'].values,test_size = 0.2)\n",
        "training_labels = le.fit_transform(training_labels)\n",
        "testing_labels = le.fit_transform(testing_labels)"
      ],
      "execution_count": 19,
      "outputs": []
    },
    {
      "cell_type": "markdown",
      "metadata": {
        "id": "UUvWMM7I5df5",
        "colab_type": "text"
      },
      "source": [
        "Data Pre Processing"
      ]
    },
    {
      "cell_type": "code",
      "metadata": {
        "id": "wt0IbqEo5g39",
        "colab_type": "code",
        "colab": {
          "base_uri": "https://localhost:8080/",
          "height": 34
        },
        "outputId": "72a55e9e-ffe3-4427-a24b-8b4230afc63f"
      },
      "source": [
        "tokenizer = Tokenizer(num_words=10000,oov_token='<OOV>')\n",
        "tokenizer.fit_on_texts(training_reviews)\n",
        "word_index = tokenizer.word_index\n",
        "training_sequence = tokenizer.texts_to_sequences(training_reviews)\n",
        "testing_sequence = tokenizer.texts_to_sequences(testing_reviews)\n",
        "train_pad_sequence = pad_sequences(training_sequence,maxlen = 200,truncating= 'post',padding = 'pre')\n",
        "test_pad_sequence = pad_sequences(testing_sequence,maxlen = 200,truncating= 'post',padding = 'pre')\n",
        "print('Total Unique Words : {}'.format(len(word_index)))"
      ],
      "execution_count": 20,
      "outputs": [
        {
          "output_type": "stream",
          "text": [
            "Total Unique Words : 7860\n"
          ],
          "name": "stdout"
        }
      ]
    },
    {
      "cell_type": "code",
      "metadata": {
        "id": "F5kleqDT5lgk",
        "colab_type": "code",
        "colab": {}
      },
      "source": [
        "embedded_words = {}\n",
        "with open('/content/glove.6B.100d.txt') as file:\n",
        "    for line in file:\n",
        "        words, coeff = line.split(maxsplit=1)\n",
        "        coeff = np.array(coeff.split(),dtype = float)\n",
        "        embedded_words[words] = coeff"
      ],
      "execution_count": 21,
      "outputs": []
    },
    {
      "cell_type": "code",
      "metadata": {
        "id": "1mEcui7z53oj",
        "colab_type": "code",
        "colab": {}
      },
      "source": [
        "embedding_matrix = np.zeros((len(word_index) + 1,100))\n",
        "for word, i in word_index.items():\n",
        "    embedding_vector = embedded_words.get(word)\n",
        "    if embedding_vector is not None:\n",
        "        embedding_matrix[i] = embedding_vector"
      ],
      "execution_count": 22,
      "outputs": []
    },
    {
      "cell_type": "markdown",
      "metadata": {
        "id": "9gAqIQqG6Cqq",
        "colab_type": "text"
      },
      "source": [
        "LSTM MODEL"
      ]
    },
    {
      "cell_type": "code",
      "metadata": {
        "id": "Ha5V4rBY5-GO",
        "colab_type": "code",
        "colab": {}
      },
      "source": [
        "model = tf.keras.Sequential([tf.keras.layers.Embedding(len(word_index) + 1,100,weights=[embedding_matrix],input_length=200,\n",
        "                            trainable=False),\n",
        "                             tf.keras.layers.Bidirectional(tf.keras.layers.LSTM(64)),\n",
        "                             tf.keras.layers.Dropout(0.5),\n",
        "                             tf.keras.layers.Dense(256,activation = 'relu',),\n",
        "                             tf.keras.layers.Dense(128,activation = 'relu'),\n",
        "                             tf.keras.layers.Dropout(0.5),\n",
        "                             tf.keras.layers.Dense(1,activation = tf.nn.sigmoid)])\n"
      ],
      "execution_count": 23,
      "outputs": []
    },
    {
      "cell_type": "code",
      "metadata": {
        "id": "iC-r3YRj6iZD",
        "colab_type": "code",
        "colab": {
          "base_uri": "https://localhost:8080/",
          "height": 392
        },
        "outputId": "b4c3409c-81ca-49dc-867c-e83b8765b9be"
      },
      "source": [
        "model.summary()"
      ],
      "execution_count": 24,
      "outputs": [
        {
          "output_type": "stream",
          "text": [
            "Model: \"sequential_3\"\n",
            "_________________________________________________________________\n",
            "Layer (type)                 Output Shape              Param #   \n",
            "=================================================================\n",
            "embedding_3 (Embedding)      (None, 200, 100)          786100    \n",
            "_________________________________________________________________\n",
            "bidirectional_3 (Bidirection (None, 128)               84480     \n",
            "_________________________________________________________________\n",
            "dropout_6 (Dropout)          (None, 128)               0         \n",
            "_________________________________________________________________\n",
            "dense_9 (Dense)              (None, 256)               33024     \n",
            "_________________________________________________________________\n",
            "dense_10 (Dense)             (None, 128)               32896     \n",
            "_________________________________________________________________\n",
            "dropout_7 (Dropout)          (None, 128)               0         \n",
            "_________________________________________________________________\n",
            "dense_11 (Dense)             (None, 1)                 129       \n",
            "=================================================================\n",
            "Total params: 936,629\n",
            "Trainable params: 150,529\n",
            "Non-trainable params: 786,100\n",
            "_________________________________________________________________\n"
          ],
          "name": "stdout"
        }
      ]
    },
    {
      "cell_type": "code",
      "metadata": {
        "id": "CkpQ6tbL7edl",
        "colab_type": "code",
        "colab": {
          "base_uri": "https://localhost:8080/",
          "height": 290
        },
        "outputId": "1ce722c0-8286-4b48-9f84-41f2353fd10d"
      },
      "source": [
        "model.compile(loss = tf.keras.losses.BinaryCrossentropy() , optimizer='Adam' , metrics = 'accuracy')\n",
        "history = model.fit(train_pad_sequence,training_labels,epochs = 8 ,validation_data=(test_pad_sequence,testing_labels))"
      ],
      "execution_count": 25,
      "outputs": [
        {
          "output_type": "stream",
          "text": [
            "Epoch 1/8\n",
            "312/312 [==============================] - 66s 210ms/step - loss: 0.3292 - accuracy: 0.8664 - val_loss: 0.1993 - val_accuracy: 0.9226\n",
            "Epoch 2/8\n",
            "312/312 [==============================] - 66s 210ms/step - loss: 0.2045 - accuracy: 0.9274 - val_loss: 0.1880 - val_accuracy: 0.9282\n",
            "Epoch 3/8\n",
            "312/312 [==============================] - 66s 210ms/step - loss: 0.1795 - accuracy: 0.9360 - val_loss: 0.1664 - val_accuracy: 0.9362\n",
            "Epoch 4/8\n",
            "312/312 [==============================] - 66s 211ms/step - loss: 0.1622 - accuracy: 0.9390 - val_loss: 0.1605 - val_accuracy: 0.9435\n",
            "Epoch 5/8\n",
            "312/312 [==============================] - 68s 217ms/step - loss: 0.1521 - accuracy: 0.9470 - val_loss: 0.1534 - val_accuracy: 0.9431\n",
            "Epoch 6/8\n",
            "312/312 [==============================] - 66s 213ms/step - loss: 0.1583 - accuracy: 0.9440 - val_loss: 0.1559 - val_accuracy: 0.9407\n",
            "Epoch 7/8\n",
            "312/312 [==============================] - 66s 213ms/step - loss: 0.1347 - accuracy: 0.9517 - val_loss: 0.1620 - val_accuracy: 0.9403\n",
            "Epoch 8/8\n",
            "312/312 [==============================] - 65s 207ms/step - loss: 0.1277 - accuracy: 0.9551 - val_loss: 0.1485 - val_accuracy: 0.9370\n"
          ],
          "name": "stdout"
        }
      ]
    },
    {
      "cell_type": "code",
      "metadata": {
        "id": "teVKSo2d8owv",
        "colab_type": "code",
        "colab": {
          "base_uri": "https://localhost:8080/",
          "height": 545
        },
        "outputId": "bbcbcf74-3310-4af9-f93e-e90940d35f0f"
      },
      "source": [
        "acc = history.history['accuracy']\n",
        "val_acc = history.history['val_accuracy']\n",
        "loss = history.history['loss']\n",
        "val_loss = history.history['val_loss']\n",
        "epochs = range(len(acc))\n",
        "\n",
        "plt.plot(epochs, acc, 'r', label='Training accuracy')\n",
        "plt.plot(epochs, val_acc, 'b', label='Validation accuracy')\n",
        "plt.title('Training and validation accuracy')\n",
        "plt.legend(loc=0)\n",
        "plt.figure()\n",
        "\n",
        "plt.plot(epochs, loss, 'r', label='Training loss')\n",
        "plt.plot(epochs, val_loss, 'b', label='Validation loss')\n",
        "plt.title('Training and validation loss')\n",
        "plt.legend(loc=0)\n",
        "\n",
        "plt.show()"
      ],
      "execution_count": 26,
      "outputs": [
        {
          "output_type": "display_data",
          "data": {
            "image/png": "[encoded data removed]",
            "text/plain": [
              "<Figure size 432x288 with 1 Axes>"
            ]
          },
          "metadata": {
            "tags": [],
            "needs_background": "light"
          }
        },
        {
          "output_type": "display_data",
          "data": {
            "image/png": "[encoded data removed]",
            "text/plain": [
              "<Figure size 432x288 with 1 Axes>"
            ]
          },
          "metadata": {
            "tags": [],
            "needs_background": "light"
          }
        }
      ]
    },
    {
      "cell_type": "code",
      "metadata": {
        "id": "MiTINOk48v2k",
        "colab_type": "code",
        "colab": {
          "base_uri": "https://localhost:8080/",
          "height": 51
        },
        "outputId": "94297ae9-32e7-4f5c-f63f-f2243df6de31"
      },
      "source": [
        "print('Training Accuracy: {}'.format(max(acc)))\n",
        "print('Validation Accuracy: {}'.format(max(val_acc)))"
      ],
      "execution_count": 27,
      "outputs": [
        {
          "output_type": "stream",
          "text": [
            "Training Accuracy: 0.9550877213478088\n",
            "Validation Accuracy: 0.9434643387794495\n"
          ],
          "name": "stdout"
        }
      ]
    }
  ]
}